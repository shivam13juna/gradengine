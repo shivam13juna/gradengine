{
 "cells": [
  {
   "cell_type": "markdown",
   "metadata": {},
   "source": [
    "# Testing Class Objects"
   ]
  },
  {
   "cell_type": "code",
   "execution_count": 20,
   "metadata": {},
   "outputs": [],
   "source": [
    "class LetsSee:\n",
    "    def __init__(self):\n",
    "        \"\"\"\n",
    "        Constructor (initializer).\n",
    "        This method is called when a new instance of the class is created.\n",
    "        Overriding __init__ allows us to initialize instance attributes.\n",
    "        \"\"\"\n",
    "        self.value = 10\n",
    "        print(\"This is a class\")\n",
    "\n",
    "    def __repr__(self):\n",
    "        \"\"\"\n",
    "        Official string representation of the object.\n",
    "        Intended for developers and debugging.\n",
    "        If possible, this should be a valid Python expression that can recreate the object.\n",
    "        \"\"\"\n",
    "        return \"This is a class in __repr__\"\n",
    "    \n",
    "    def __str__(self):\n",
    "        \"\"\"\n",
    "        Informal (or nicely printable) string representation of the object.\n",
    "        Used by the print() function and str().\n",
    "        \"\"\"\n",
    "        return \"This is a class in __str__\"\n",
    "    \n",
    "    def __del__(self):\n",
    "        \"\"\"\n",
    "        Destructor.\n",
    "        Called when the instance is about to be destroyed.\n",
    "        Note: The timing of this call is determined by Python's garbage collection.\n",
    "        \"\"\"\n",
    "        print(\"This is a class in __del__\")\n",
    "\n",
    "    def __call__(self):\n",
    "        \"\"\"\n",
    "        Callable instance.\n",
    "        This allows the object to be called as if it were a function.\n",
    "        \"\"\"\n",
    "        print(\"This is a class in __call__\")\n",
    "\n",
    "    def __len__(self):\n",
    "        \"\"\"\n",
    "        Defines the behavior of the built-in len() function.\n",
    "        It should return an integer representing the length of the object.\n",
    "        \"\"\"\n",
    "        return 5\n",
    "    \n",
    "    def __getitem__(self, key):\n",
    "        \"\"\"\n",
    "        Called to retrieve an item using the indexing syntax (e.g., obj[key]).\n",
    "        'key' can be an index or a slice.\n",
    "        \"\"\"\n",
    "        return key\n",
    "    \n",
    "    def __setitem__(self, key, value):\n",
    "        \"\"\"\n",
    "        Called to set the value of an item using the indexing syntax (e.g., obj[key] = value).\n",
    "        \"\"\"\n",
    "        print(f\"Setting key {key} to value {value}\")\n",
    "\n",
    "    def __delitem__(self, key):\n",
    "        \"\"\"\n",
    "        Called when an item is deleted from the object using the 'del' statement (e.g., del obj[key]).\n",
    "        \"\"\"\n",
    "        print(f\"Deleting key {key}\")\n",
    "\n",
    "    def __iter__(self):\n",
    "        \"\"\"\n",
    "        Returns an iterator for the object.\n",
    "        This method should return an object that has a __next__() method.\n",
    "        Here, the class itself is made to be its own iterator.\n",
    "        \"\"\"\n",
    "        return self\n",
    "    \n",
    "    def __next__(self):\n",
    "        \"\"\"\n",
    "        Returns the next item in iteration.\n",
    "        This method is required for the object to be an iterator.\n",
    "        (Note: In a real scenario, you'd want to manage a stopping condition to raise StopIteration.)\n",
    "        \"\"\"\n",
    "        return 1\n",
    "    \n",
    "    def __contains__(self, item):\n",
    "        \"\"\"\n",
    "        Defines behavior for membership testing using the 'in' operator.\n",
    "        Returns True if the item is found in the object, otherwise False.\n",
    "        \"\"\"\n",
    "        return True\n",
    "    \n",
    "    def __add__(self, other):\n",
    "        \"\"\"\n",
    "        Overloads the addition operator (+).\n",
    "        This method defines how to add two instances or an instance and another value.\n",
    "        \"\"\"\n",
    "        return self.value + other.value if isinstance(other, LetsSee) else self.value + other\n",
    "    \n",
    "    def __sub__(self, other):\n",
    "        \"\"\"\n",
    "        Overloads the subtraction operator (-).\n",
    "        \"\"\"\n",
    "        return 10\n",
    "    \n",
    "    def __mul__(self, other):\n",
    "        \"\"\"\n",
    "        Overloads the multiplication operator (*).\n",
    "        \"\"\"\n",
    "        return 10\n",
    "    \n",
    "    def __truediv__(self, other):\n",
    "        \"\"\"\n",
    "        Overloads the true division operator (/).\n",
    "        \"\"\"\n",
    "        return 10\n",
    "    \n",
    "    def __floordiv__(self, other):\n",
    "        \"\"\"\n",
    "        Overloads the floor division operator (//).\n",
    "        \"\"\"\n",
    "        return 10\n"
   ]
  },
  {
   "cell_type": "code",
   "execution_count": 21,
   "metadata": {},
   "outputs": [
    {
     "name": "stdout",
     "output_type": "stream",
     "text": [
      "This is a class\n"
     ]
    }
   ],
   "source": [
    "\n",
    "# Example usage:\n",
    "obj = LetsSee()       # Calls __init__\n"
   ]
  },
  {
   "cell_type": "code",
   "execution_count": 4,
   "metadata": {},
   "outputs": [
    {
     "data": {
      "text/plain": [
       "This is a class in __repr__"
      ]
     },
     "execution_count": 4,
     "metadata": {},
     "output_type": "execute_result"
    }
   ],
   "source": [
    "\n",
    "obj      # Calls __repr__\n"
   ]
  },
  {
   "cell_type": "code",
   "execution_count": 8,
   "metadata": {},
   "outputs": [
    {
     "name": "stdout",
     "output_type": "stream",
     "text": [
      "This is a class in __str__\n"
     ]
    }
   ],
   "source": [
    "\n",
    "print(obj)\n"
   ]
  },
  {
   "cell_type": "code",
   "execution_count": 9,
   "metadata": {},
   "outputs": [
    {
     "data": {
      "text/plain": [
       "5"
      ]
     },
     "execution_count": 9,
     "metadata": {},
     "output_type": "execute_result"
    }
   ],
   "source": [
    "\n",
    "len(obj)      # Calls __len__()\n"
   ]
  },
  {
   "cell_type": "code",
   "execution_count": 10,
   "metadata": {},
   "outputs": [
    {
     "name": "stdout",
     "output_type": "stream",
     "text": [
      "This is a class in __call__\n"
     ]
    }
   ],
   "source": [
    "\n",
    "obj()                 # Calls __call__()\n"
   ]
  },
  {
   "cell_type": "code",
   "execution_count": 14,
   "metadata": {},
   "outputs": [
    {
     "data": {
      "text/plain": [
       "5"
      ]
     },
     "execution_count": 14,
     "metadata": {},
     "output_type": "execute_result"
    }
   ],
   "source": [
    "\n",
    "obj[5]        # Calls __getitem__()\n"
   ]
  },
  {
   "cell_type": "code",
   "execution_count": 15,
   "metadata": {},
   "outputs": [
    {
     "name": "stdout",
     "output_type": "stream",
     "text": [
      "Setting key 5 to value example\n"
     ]
    }
   ],
   "source": [
    "\n",
    "obj[5] = \"example\"    # Calls __setitem__()\n"
   ]
  },
  {
   "cell_type": "code",
   "execution_count": 16,
   "metadata": {},
   "outputs": [
    {
     "name": "stdout",
     "output_type": "stream",
     "text": [
      "Deleting key 5\n"
     ]
    }
   ],
   "source": [
    "\n",
    "del obj[5]            # Calls __delitem__()\n"
   ]
  },
  {
   "cell_type": "code",
   "execution_count": 17,
   "metadata": {},
   "outputs": [
    {
     "name": "stdout",
     "output_type": "stream",
     "text": [
      "True\n"
     ]
    }
   ],
   "source": [
    "\n",
    "print(3 in obj)       # Calls __contains__()\n"
   ]
  },
  {
   "cell_type": "code",
   "execution_count": 23,
   "metadata": {},
   "outputs": [
    {
     "name": "stdout",
     "output_type": "stream",
     "text": [
      "11\n"
     ]
    }
   ],
   "source": [
    "\n",
    "print(obj + 1)        # Calls __add__()\n"
   ]
  },
  {
   "cell_type": "markdown",
   "metadata": {},
   "source": [
    "# Testing Children logic in Class"
   ]
  },
  {
   "cell_type": "code",
   "execution_count": 2,
   "metadata": {},
   "outputs": [],
   "source": [
    "class testing_children:\n",
    "\n",
    "\tdef __init__(self, data, _children = ()):\n",
    "\t\t\n",
    "\t\tself.data = data\n",
    "\n",
    "\t\tself._prev = set(_children)\n",
    "\n",
    "\tdef __repr__(self):\n",
    "\t\treturn f\"testing_children({self.data})\"\n",
    "\n",
    "\tdef __add__(self, other):\n",
    "\n",
    "\t\treturn testing_children(self.data + other.data, _children = (self, other))\n",
    "\t\n",
    "\tdef __mul__(self, other):\n",
    "\n",
    "\t\treturn testing_children(self.data * other.data, _children = (self, other))"
   ]
  },
  {
   "cell_type": "code",
   "execution_count": 3,
   "metadata": {},
   "outputs": [],
   "source": [
    "a = testing_children(1)\n",
    "b = testing_children(2)\n",
    "c = testing_children(3)\n",
    "\n",
    "e = testing_children(4)\n",
    "\n",
    "d = a + b + c\n",
    "\n",
    "e = d * a"
   ]
  },
  {
   "cell_type": "code",
   "execution_count": 4,
   "metadata": {},
   "outputs": [
    {
     "data": {
      "text/plain": [
       "testing_children(6)"
      ]
     },
     "execution_count": 4,
     "metadata": {},
     "output_type": "execute_result"
    }
   ],
   "source": [
    "d"
   ]
  },
  {
   "cell_type": "code",
   "execution_count": 5,
   "metadata": {},
   "outputs": [
    {
     "data": {
      "text/plain": [
       "{testing_children(3), testing_children(3)}"
      ]
     },
     "execution_count": 5,
     "metadata": {},
     "output_type": "execute_result"
    }
   ],
   "source": [
    "d._prev"
   ]
  },
  {
   "cell_type": "code",
   "execution_count": 6,
   "metadata": {},
   "outputs": [
    {
     "data": {
      "text/plain": [
       "testing_children(6)"
      ]
     },
     "execution_count": 6,
     "metadata": {},
     "output_type": "execute_result"
    }
   ],
   "source": [
    "e"
   ]
  },
  {
   "cell_type": "code",
   "execution_count": 7,
   "metadata": {},
   "outputs": [
    {
     "data": {
      "text/plain": [
       "{testing_children(1), testing_children(6)}"
      ]
     },
     "execution_count": 7,
     "metadata": {},
     "output_type": "execute_result"
    }
   ],
   "source": [
    "e._prev"
   ]
  },
  {
   "cell_type": "markdown",
   "metadata": {},
   "source": [
    "The code you provided `e._prev` is accessing the `_prev` attribute of an object `e`. Based on the provided code snippets, it seems that `e` is an instance of a class that has a `_prev` attribute.\n",
    "\n",
    "In the `__init__` method of the class, the `_prev` attribute is set to a set of `_children`. The order of elements in a set is not guaranteed, so when you access `e._prev`, the order of elements may not necessarily be the same as the order in which they were added.\n",
    "\n",
    "If you want to maintain the order of elements, you can use a different data structure such as a list or tuple instead of a set. For example:\n",
    "\n"
   ]
  },
  {
   "cell_type": "markdown",
   "metadata": {},
   "source": [
    "\n",
    "\n",
    "By using a list, the order of elements will be preserved when you access `e._prev`."
   ]
  },
  {
   "cell_type": "markdown",
   "metadata": {},
   "source": [
    "# Trying my own version of traversing the tree"
   ]
  },
  {
   "cell_type": "code",
   "execution_count": 38,
   "metadata": {},
   "outputs": [],
   "source": [
    "class myentity:\n",
    "\tdef __init__(self, value, label = \"\", _prev = \"\", _op = \"\"):\n",
    "\t\tself.data = value\n",
    "\t\tself.children = _prev\n",
    "\t\tself.label = label\n",
    "\t\tself._op = _op\n",
    "\n",
    "\tdef __str__(self):\n",
    "\t\t#return f\"This is my entity class, meant for print statements, has value {self.data}\"\n",
    "\t\treturn f\"Node, value {self.data}\"\n",
    "\n",
    "\tdef __repr__(self):\n",
    "\t\treturn f\"Entity has value: {self.data}, label: {self.label}, op: {self._op}\"\n",
    "\n",
    "\tdef __add__(self, other):\n",
    "\t\treturn myentity(self.data + other.data, _prev=(self, other), _op=\"+\") if isinstance(other, myentity) else myentity(self.data + other)\n",
    "\t\n",
    "\tdef __sub__(self, other):\n",
    "\t\treturn myentity(self.data - other.data, _prev=(self, other), _op=\"-\") if isinstance(other, myentity) else myentity(self.data - other)\n",
    "\t\n",
    "\tdef __truediv__(self, other):\n",
    "\t\treturn myentity(self.data / other.data, _prev=(self, other), _op=\"/\") if isinstance(other, myentity) else myentity(self.data / other)\n",
    "\n",
    "\tdef __mul__(self, other):\n",
    "\t\treturn myentity(self.data * other.data, _prev=(self, other), _op=\"*\") if isinstance(other, myentity) else myentity(self.data * other)\n"
   ]
  },
  {
   "cell_type": "code",
   "execution_count": 39,
   "metadata": {},
   "outputs": [
    {
     "name": "stdout",
     "output_type": "stream",
     "text": [
      "Node, value 5\n"
     ]
    },
    {
     "data": {
      "text/plain": [
       "Entity has value: 5, label: a, op: "
      ]
     },
     "execution_count": 39,
     "metadata": {},
     "output_type": "execute_result"
    }
   ],
   "source": [
    "#a = myentity(5)\n",
    "#b = myentity(10)\n",
    "#c = myentity(15)\n",
    "#d = myentity(20)\n",
    "\n",
    "#e = a + b\n",
    "#f = c * d\n",
    "#g = e + f\n",
    "\n",
    "#print(a)\n",
    "#a\n",
    "\n",
    "a = myentity(5); a.label = 'a'\n",
    "b = myentity(10); b.label = 'b'\n",
    "c = myentity(15); c.label = 'c'\n",
    "d = myentity(20); d.label = 'd'\n",
    "\n",
    "e = a + b; e.label = 'e'\n",
    "f = c * b; f.label = 'f'\n",
    "g = e + f; g.label = 'g'\n",
    "\n",
    "print(a)\n",
    "a"
   ]
  },
  {
   "cell_type": "code",
   "execution_count": null,
   "metadata": {},
   "outputs": [],
   "source": []
  },
  {
   "cell_type": "code",
   "execution_count": 46,
   "metadata": {},
   "outputs": [
    {
     "name": "stdout",
     "output_type": "stream",
     "text": [
      "Printing nodes:\n",
      "Node, value 15\n",
      "Node, value 150\n",
      "Node, value 15\n",
      "Node, value 165\n",
      "Node, value 5\n",
      "Node, value 10\n",
      "Printing edges:\n",
      "(Entity has value: 5, label: a, op: , Entity has value: 15, label: e, op: +)\n",
      "(Entity has value: 15, label: e, op: +, Entity has value: 165, label: g, op: +)\n",
      "(Entity has value: 15, label: c, op: , Entity has value: 150, label: f, op: *)\n",
      "(Entity has value: 150, label: f, op: *, Entity has value: 165, label: g, op: +)\n",
      "(Entity has value: 10, label: b, op: , Entity has value: 15, label: e, op: +)\n",
      "(Entity has value: 10, label: b, op: , Entity has value: 150, label: f, op: *)\n"
     ]
    },
    {
     "data": {
      "image/svg+xml": [
       "<?xml version=\"1.0\" encoding=\"UTF-8\" standalone=\"no\"?>\n",
       "<!DOCTYPE svg PUBLIC \"-//W3C//DTD SVG 1.1//EN\"\n",
       " \"http://www.w3.org/Graphics/SVG/1.1/DTD/svg11.dtd\">\n",
       "<!-- Generated by graphviz version 12.2.1 (20241206.2353)\n",
       " -->\n",
       "<!-- Pages: 1 -->\n",
       "<svg width=\"599pt\" height=\"155pt\"\n",
       " viewBox=\"0.00 0.00 599.00 155.00\" xmlns=\"http://www.w3.org/2000/svg\" xmlns:xlink=\"http://www.w3.org/1999/xlink\">\n",
       "<g id=\"graph0\" class=\"graph\" transform=\"scale(1 1) rotate(0) translate(4 151)\">\n",
       "<polygon fill=\"white\" stroke=\"none\" points=\"-4,4 -4,-151 595,-151 595,4 -4,4\"/>\n",
       "<!-- 4390079504 -->\n",
       "<g id=\"node1\" class=\"node\">\n",
       "<title>4390079504</title>\n",
       "<polygon fill=\"none\" stroke=\"black\" points=\"237.88,-27.5 237.88,-63.5 346.38,-63.5 346.38,-27.5 237.88,-27.5\"/>\n",
       "<text text-anchor=\"middle\" x=\"248.88\" y=\"-40.7\" font-family=\"Times,serif\" font-size=\"14.00\">e</text>\n",
       "<polyline fill=\"none\" stroke=\"black\" points=\"259.88,-28 259.88,-63.5\"/>\n",
       "<text text-anchor=\"middle\" x=\"303.12\" y=\"-40.7\" font-family=\"Times,serif\" font-size=\"14.00\">data 15.0000</text>\n",
       "</g>\n",
       "<!-- 4390046064+ -->\n",
       "<g id=\"node7\" class=\"node\">\n",
       "<title>4390046064+</title>\n",
       "<ellipse fill=\"none\" stroke=\"black\" cx=\"412\" cy=\"-72.5\" rx=\"27\" ry=\"18\"/>\n",
       "<text text-anchor=\"middle\" x=\"412\" y=\"-67.45\" font-family=\"Times,serif\" font-size=\"14.00\">+</text>\n",
       "</g>\n",
       "<!-- 4390079504&#45;&gt;4390046064+ -->\n",
       "<g id=\"edge5\" class=\"edge\">\n",
       "<title>4390079504&#45;&gt;4390046064+</title>\n",
       "<path fill=\"none\" stroke=\"black\" d=\"M346.54,-57.74C356.12,-59.93 365.88,-62.17 374.83,-64.21\"/>\n",
       "<polygon fill=\"black\" stroke=\"black\" points=\"374.02,-67.62 384.54,-66.44 375.58,-60.8 374.02,-67.62\"/>\n",
       "</g>\n",
       "<!-- 4390079504+ -->\n",
       "<g id=\"node2\" class=\"node\">\n",
       "<title>4390079504+</title>\n",
       "<ellipse fill=\"none\" stroke=\"black\" cx=\"172.25\" cy=\"-45.5\" rx=\"27\" ry=\"18\"/>\n",
       "<text text-anchor=\"middle\" x=\"172.25\" y=\"-40.45\" font-family=\"Times,serif\" font-size=\"14.00\">+</text>\n",
       "</g>\n",
       "<!-- 4390079504+&#45;&gt;4390079504 -->\n",
       "<g id=\"edge1\" class=\"edge\">\n",
       "<title>4390079504+&#45;&gt;4390079504</title>\n",
       "<path fill=\"none\" stroke=\"black\" d=\"M199.7,-45.5C207.71,-45.5 216.89,-45.5 226.27,-45.5\"/>\n",
       "<polygon fill=\"black\" stroke=\"black\" points=\"226.23,-49 236.23,-45.5 226.23,-42 226.23,-49\"/>\n",
       "</g>\n",
       "<!-- 4390078160 -->\n",
       "<g id=\"node3\" class=\"node\">\n",
       "<title>4390078160</title>\n",
       "<polygon fill=\"none\" stroke=\"black\" points=\"235.25,-82.5 235.25,-118.5 349,-118.5 349,-82.5 235.25,-82.5\"/>\n",
       "<text text-anchor=\"middle\" x=\"245.5\" y=\"-95.7\" font-family=\"Times,serif\" font-size=\"14.00\">f</text>\n",
       "<polyline fill=\"none\" stroke=\"black\" points=\"255.75,-83 255.75,-118.5\"/>\n",
       "<text text-anchor=\"middle\" x=\"302.38\" y=\"-95.7\" font-family=\"Times,serif\" font-size=\"14.00\">data 150.0000</text>\n",
       "</g>\n",
       "<!-- 4390078160&#45;&gt;4390046064+ -->\n",
       "<g id=\"edge7\" class=\"edge\">\n",
       "<title>4390078160&#45;&gt;4390046064+</title>\n",
       "<path fill=\"none\" stroke=\"black\" d=\"M349.3,-87.16C358.09,-85.07 366.95,-82.96 375.12,-81.02\"/>\n",
       "<polygon fill=\"black\" stroke=\"black\" points=\"375.73,-84.48 384.65,-78.76 374.11,-77.67 375.73,-84.48\"/>\n",
       "</g>\n",
       "<!-- 4390078160* -->\n",
       "<g id=\"node4\" class=\"node\">\n",
       "<title>4390078160*</title>\n",
       "<ellipse fill=\"none\" stroke=\"black\" cx=\"172.25\" cy=\"-100.5\" rx=\"27\" ry=\"18\"/>\n",
       "<text text-anchor=\"middle\" x=\"172.25\" y=\"-95.45\" font-family=\"Times,serif\" font-size=\"14.00\">*</text>\n",
       "</g>\n",
       "<!-- 4390078160*&#45;&gt;4390078160 -->\n",
       "<g id=\"edge2\" class=\"edge\">\n",
       "<title>4390078160*&#45;&gt;4390078160</title>\n",
       "<path fill=\"none\" stroke=\"black\" d=\"M199.7,-100.5C206.89,-100.5 215.01,-100.5 223.38,-100.5\"/>\n",
       "<polygon fill=\"black\" stroke=\"black\" points=\"223.36,-104 233.36,-100.5 223.36,-97 223.36,-104\"/>\n",
       "</g>\n",
       "<!-- 4390079216 -->\n",
       "<g id=\"node5\" class=\"node\">\n",
       "<title>4390079216</title>\n",
       "<polygon fill=\"none\" stroke=\"black\" points=\"0.38,-110.5 0.38,-146.5 108.88,-146.5 108.88,-110.5 0.38,-110.5\"/>\n",
       "<text text-anchor=\"middle\" x=\"11.38\" y=\"-123.7\" font-family=\"Times,serif\" font-size=\"14.00\">c</text>\n",
       "<polyline fill=\"none\" stroke=\"black\" points=\"22.38,-111 22.38,-146.5\"/>\n",
       "<text text-anchor=\"middle\" x=\"65.62\" y=\"-123.7\" font-family=\"Times,serif\" font-size=\"14.00\">data 15.0000</text>\n",
       "</g>\n",
       "<!-- 4390079216&#45;&gt;4390078160* -->\n",
       "<g id=\"edge6\" class=\"edge\">\n",
       "<title>4390079216&#45;&gt;4390078160*</title>\n",
       "<path fill=\"none\" stroke=\"black\" d=\"M109.04,-115.57C117.89,-113.42 126.87,-111.25 135.16,-109.24\"/>\n",
       "<polygon fill=\"black\" stroke=\"black\" points=\"135.96,-112.65 144.86,-106.89 134.31,-105.84 135.96,-112.65\"/>\n",
       "</g>\n",
       "<!-- 4390046064 -->\n",
       "<g id=\"node6\" class=\"node\">\n",
       "<title>4390046064</title>\n",
       "<polygon fill=\"none\" stroke=\"black\" points=\"475,-54.5 475,-90.5 591,-90.5 591,-54.5 475,-54.5\"/>\n",
       "<text text-anchor=\"middle\" x=\"486.38\" y=\"-67.7\" font-family=\"Times,serif\" font-size=\"14.00\">g</text>\n",
       "<polyline fill=\"none\" stroke=\"black\" points=\"497.75,-55 497.75,-90.5\"/>\n",
       "<text text-anchor=\"middle\" x=\"544.38\" y=\"-67.7\" font-family=\"Times,serif\" font-size=\"14.00\">data 165.0000</text>\n",
       "</g>\n",
       "<!-- 4390046064+&#45;&gt;4390046064 -->\n",
       "<g id=\"edge3\" class=\"edge\">\n",
       "<title>4390046064+&#45;&gt;4390046064</title>\n",
       "<path fill=\"none\" stroke=\"black\" d=\"M439.41,-72.5C446.74,-72.5 455.06,-72.5 463.62,-72.5\"/>\n",
       "<polygon fill=\"black\" stroke=\"black\" points=\"463.45,-76 473.45,-72.5 463.45,-69 463.45,-76\"/>\n",
       "</g>\n",
       "<!-- 4390076864 -->\n",
       "<g id=\"node8\" class=\"node\">\n",
       "<title>4390076864</title>\n",
       "<polygon fill=\"none\" stroke=\"black\" points=\"3.75,-0.5 3.75,-36.5 105.5,-36.5 105.5,-0.5 3.75,-0.5\"/>\n",
       "<text text-anchor=\"middle\" x=\"14.75\" y=\"-13.7\" font-family=\"Times,serif\" font-size=\"14.00\">a</text>\n",
       "<polyline fill=\"none\" stroke=\"black\" points=\"25.75,-1 25.75,-36.5\"/>\n",
       "<text text-anchor=\"middle\" x=\"65.62\" y=\"-13.7\" font-family=\"Times,serif\" font-size=\"14.00\">data 5.0000</text>\n",
       "</g>\n",
       "<!-- 4390076864&#45;&gt;4390079504+ -->\n",
       "<g id=\"edge4\" class=\"edge\">\n",
       "<title>4390076864&#45;&gt;4390079504+</title>\n",
       "<path fill=\"none\" stroke=\"black\" d=\"M105.67,-30.19C115.65,-32.52 125.94,-34.92 135.33,-37.11\"/>\n",
       "<polygon fill=\"black\" stroke=\"black\" points=\"134.25,-40.45 144.78,-39.32 135.84,-33.64 134.25,-40.45\"/>\n",
       "</g>\n",
       "<!-- 4391834576 -->\n",
       "<g id=\"node9\" class=\"node\">\n",
       "<title>4391834576</title>\n",
       "<polygon fill=\"none\" stroke=\"black\" points=\"0,-55.5 0,-91.5 109.25,-91.5 109.25,-55.5 0,-55.5\"/>\n",
       "<text text-anchor=\"middle\" x=\"11.38\" y=\"-68.7\" font-family=\"Times,serif\" font-size=\"14.00\">b</text>\n",
       "<polyline fill=\"none\" stroke=\"black\" points=\"22.75,-56 22.75,-91.5\"/>\n",
       "<text text-anchor=\"middle\" x=\"66\" y=\"-68.7\" font-family=\"Times,serif\" font-size=\"14.00\">data 10.0000</text>\n",
       "</g>\n",
       "<!-- 4391834576&#45;&gt;4390079504+ -->\n",
       "<g id=\"edge8\" class=\"edge\">\n",
       "<title>4391834576&#45;&gt;4390079504+</title>\n",
       "<path fill=\"none\" stroke=\"black\" d=\"M109.71,-60.4C118.42,-58.29 127.24,-56.16 135.38,-54.19\"/>\n",
       "<polygon fill=\"black\" stroke=\"black\" points=\"135.99,-57.64 144.88,-51.88 134.34,-50.84 135.99,-57.64\"/>\n",
       "</g>\n",
       "<!-- 4391834576&#45;&gt;4390078160* -->\n",
       "<g id=\"edge9\" class=\"edge\">\n",
       "<title>4391834576&#45;&gt;4390078160*</title>\n",
       "<path fill=\"none\" stroke=\"black\" d=\"M109.71,-86.13C118.42,-88.16 127.24,-90.22 135.38,-92.12\"/>\n",
       "<polygon fill=\"black\" stroke=\"black\" points=\"134.35,-95.48 144.88,-94.34 135.94,-88.66 134.35,-95.48\"/>\n",
       "</g>\n",
       "</g>\n",
       "</svg>\n"
      ],
      "text/plain": [
       "<graphviz.graphs.Digraph at 0x106305d30>"
      ]
     },
     "execution_count": 46,
     "metadata": {},
     "output_type": "execute_result"
    }
   ],
   "source": [
    "def trace(root):\n",
    "    nodes, edges = set(), set()\n",
    "\n",
    "    def build(v):\n",
    "        \n",
    "        nodes.add(v)\n",
    "        for child in v.children:\n",
    "            edges.add((child, v))\n",
    "            build(child)\n",
    "    build(root)\n",
    "    return nodes, edges\n",
    "\n",
    "    #def build(v):\n",
    "    #    if v not in nodes:\n",
    "    #        nodes.add(v)\n",
    "    #        for child in v.children:\n",
    "    #            edges.add((child, v))\n",
    "    #            build(child)\n",
    "    #build(root)\n",
    "    #return nodes, edges\n",
    "\n",
    "\n",
    "from graphviz import Digraph\n",
    "\n",
    "def draw_dot(root, format='svg', rankdir='LR'):\n",
    "    \"\"\"\n",
    "    format: png | svg | ...\n",
    "    rankdir: TB (top to bottom graph) | LR (left to right)\n",
    "    \"\"\"\n",
    "    assert rankdir in ['LR', 'TB']\n",
    "    nodes, edges = trace(root)\n",
    "    dot = Digraph(format=format, graph_attr={'rankdir': rankdir}) #, node_attr={'rankdir': 'TB'})\n",
    "    \n",
    "    for n in nodes:\n",
    "        #dot.node(name=str(id(n)), label = \"{  %s | data %.4f | grad %.4f }\" % (n.label, n.data, n.grad), shape='record')\n",
    "        #remove grad\n",
    "        dot.node(name=str(id(n)), label = \"{ %s | data %.4f}\" % (n.label, n.data), shape='record')\n",
    "        if n._op:\n",
    "            dot.node(name=str(id(n)) + n._op, label=n._op)\n",
    "            dot.edge(str(id(n)) + n._op, str(id(n)))\n",
    "    \n",
    "    for n1, n2 in edges:\n",
    "        dot.edge(str(id(n1)), str(id(n2)) + n2._op)\n",
    "    \n",
    "    print(\"Printing nodes:\")\n",
    "    for node in nodes:\n",
    "        print(node)\n",
    "\n",
    "    print(\"Printing edges:\")\n",
    "    for edge in edges:\n",
    "        print(edge)\n",
    "\n",
    "    return dot\n",
    "\n",
    "\n",
    "draw_dot(g)"
   ]
  },
  {
   "cell_type": "code",
   "execution_count": 49,
   "metadata": {},
   "outputs": [
    {
     "data": {
      "text/plain": [
       "[Entity has value: 5, label: a, op: ,\n",
       " Entity has value: 10, label: b, op: ,\n",
       " Entity has value: 15, label: e, op: +,\n",
       " Entity has value: 15, label: c, op: ,\n",
       " Entity has value: 150, label: f, op: *,\n",
       " Entity has value: 165, label: g, op: +]"
      ]
     },
     "execution_count": 49,
     "metadata": {},
     "output_type": "execute_result"
    }
   ],
   "source": [
    "# topological order all of the children in the graph\n",
    "topo = []\n",
    "visited = set()\n",
    "def build_topo(v):\n",
    "\tif v not in visited:\n",
    "\t\tvisited.add(v)\n",
    "\t\tfor child in v.children:\n",
    "\t\t\tbuild_topo(child)\n",
    "\t\ttopo.append(v)\n",
    "build_topo(g)\n",
    "\n",
    "topo"
   ]
  },
  {
   "cell_type": "markdown",
   "metadata": {},
   "source": [
    "## V1"
   ]
  },
  {
   "cell_type": "code",
   "execution_count": 41,
   "metadata": {},
   "outputs": [
    {
     "data": {
      "text/plain": [
       "({Entity has value: 10, label: b, op: ,\n",
       "  Entity has value: 15, label: e, op: +,\n",
       "  Entity has value: 15, label: c, op: ,\n",
       "  Entity has value: 150, label: f, op: *,\n",
       "  Entity has value: 165, label: g, op: +,\n",
       "  Entity has value: 5, label: a, op: },\n",
       " {(Entity has value: 10, label: b, op: ,\n",
       "   Entity has value: 15, label: e, op: +),\n",
       "  (Entity has value: 10, label: b, op: ,\n",
       "   Entity has value: 150, label: f, op: *),\n",
       "  (Entity has value: 15, label: c, op: ,\n",
       "   Entity has value: 150, label: f, op: *),\n",
       "  (Entity has value: 15, label: e, op: +,\n",
       "   Entity has value: 165, label: g, op: +),\n",
       "  (Entity has value: 150, label: f, op: *,\n",
       "   Entity has value: 165, label: g, op: +),\n",
       "  (Entity has value: 5, label: a, op: ,\n",
       "   Entity has value: 15, label: e, op: +)})"
      ]
     },
     "execution_count": 41,
     "metadata": {},
     "output_type": "execute_result"
    }
   ],
   "source": [
    "def traverse(root):\n",
    "\tnodes, edges = set(), set()\n",
    "\n",
    "\tdef iterate_nodes(node):\n",
    "\t\tif node not in nodes:\n",
    "\t\t\tnodes.add(node)\n",
    "\t\t\tfor child in node.children:\n",
    "\t\t\t\tedges.add((child, node))\n",
    "\t\t\t\titerate_nodes(child)\n",
    "\n",
    "\titerate_nodes(root)\n",
    "\n",
    "\treturn nodes, edges\n",
    "\n",
    "\n",
    "traverse(g)\n",
    "\n"
   ]
  },
  {
   "cell_type": "markdown",
   "metadata": {},
   "source": [
    "## V2"
   ]
  },
  {
   "cell_type": "code",
   "execution_count": 42,
   "metadata": {},
   "outputs": [
    {
     "data": {
      "text/plain": [
       "({Entity has value: 10, label: b, op: ,\n",
       "  Entity has value: 15, label: e, op: +,\n",
       "  Entity has value: 15, label: c, op: ,\n",
       "  Entity has value: 150, label: f, op: *,\n",
       "  Entity has value: 165, label: g, op: +,\n",
       "  Entity has value: 5, label: a, op: },\n",
       " {(Entity has value: 10, label: b, op: ,\n",
       "   Entity has value: 15, label: e, op: +),\n",
       "  (Entity has value: 10, label: b, op: ,\n",
       "   Entity has value: 150, label: f, op: *),\n",
       "  (Entity has value: 15, label: c, op: ,\n",
       "   Entity has value: 150, label: f, op: *),\n",
       "  (Entity has value: 15, label: e, op: +,\n",
       "   Entity has value: 165, label: g, op: +),\n",
       "  (Entity has value: 150, label: f, op: *,\n",
       "   Entity has value: 165, label: g, op: +),\n",
       "  (Entity has value: 5, label: a, op: ,\n",
       "   Entity has value: 15, label: e, op: +)})"
      ]
     },
     "execution_count": 42,
     "metadata": {},
     "output_type": "execute_result"
    }
   ],
   "source": [
    "def build(root):\n",
    "\tnodes, edges = set(), set()\n",
    "\tdef traverse(node):\n",
    "\t\tif node not in nodes:\n",
    "\t\t\tnodes.add(node)\n",
    "\t\t\tfor child in node.children:\n",
    "\t\t\t\tedges.add((child, node))\n",
    "\t\t\t\ttraverse(child)\n",
    "\t\n",
    "\ttraverse(root)\n",
    "\n",
    "\treturn nodes, edges\n",
    "\n",
    "build(g)"
   ]
  },
  {
   "cell_type": "markdown",
   "metadata": {},
   "source": [
    "## V3"
   ]
  },
  {
   "cell_type": "code",
   "execution_count": 43,
   "metadata": {},
   "outputs": [
    {
     "data": {
      "text/plain": [
       "({(Entity has value: 10, label: b, op: ,\n",
       "   Entity has value: 15, label: e, op: +),\n",
       "  (Entity has value: 10, label: b, op: ,\n",
       "   Entity has value: 150, label: f, op: *),\n",
       "  (Entity has value: 15, label: c, op: ,\n",
       "   Entity has value: 150, label: f, op: *),\n",
       "  (Entity has value: 15, label: e, op: +,\n",
       "   Entity has value: 165, label: g, op: +),\n",
       "  (Entity has value: 150, label: f, op: *,\n",
       "   Entity has value: 165, label: g, op: +),\n",
       "  (Entity has value: 5, label: a, op: ,\n",
       "   Entity has value: 15, label: e, op: +)},\n",
       " {Entity has value: 10, label: b, op: ,\n",
       "  Entity has value: 15, label: e, op: +,\n",
       "  Entity has value: 15, label: c, op: ,\n",
       "  Entity has value: 150, label: f, op: *,\n",
       "  Entity has value: 165, label: g, op: +,\n",
       "  Entity has value: 5, label: a, op: })"
      ]
     },
     "execution_count": 43,
     "metadata": {},
     "output_type": "execute_result"
    }
   ],
   "source": [
    "visited, edges = set(), set()\n",
    "\n",
    "def build_tree(node, edges, visited):\n",
    "\tif node not in visited:\n",
    "\t\tvisited.add(node)\n",
    "\t\tfor child in node.children:\n",
    "\t\t\tedges.add((child, node))\n",
    "\t\t\tbuild_tree(child, edges, visited)\n",
    "\treturn edges, visited\n",
    "\n",
    "build_tree(g, edges, visited)\n",
    "\n",
    "\n"
   ]
  },
  {
   "cell_type": "code",
   "execution_count": 44,
   "metadata": {},
   "outputs": [
    {
     "data": {
      "text/plain": [
       "({(Entity has value: 10, label: b, op: ,\n",
       "   Entity has value: 15, label: e, op: +),\n",
       "  (Entity has value: 10, label: b, op: ,\n",
       "   Entity has value: 150, label: f, op: *),\n",
       "  (Entity has value: 15, label: c, op: ,\n",
       "   Entity has value: 150, label: f, op: *),\n",
       "  (Entity has value: 15, label: e, op: +,\n",
       "   Entity has value: 165, label: g, op: +),\n",
       "  (Entity has value: 150, label: f, op: *,\n",
       "   Entity has value: 165, label: g, op: +),\n",
       "  (Entity has value: 5, label: a, op: ,\n",
       "   Entity has value: 15, label: e, op: +)},\n",
       " {Entity has value: 10, label: b, op: ,\n",
       "  Entity has value: 15, label: e, op: +,\n",
       "  Entity has value: 15, label: c, op: ,\n",
       "  Entity has value: 150, label: f, op: *,\n",
       "  Entity has value: 165, label: g, op: +,\n",
       "  Entity has value: 5, label: a, op: })"
      ]
     },
     "execution_count": 44,
     "metadata": {},
     "output_type": "execute_result"
    }
   ],
   "source": [
    "visited, edges = set(), set()\n",
    "\n",
    "def build_tree(node, edges, visited):\n",
    "\t\n",
    "\tvisited.add(node)\n",
    "\tfor child in node.children:\n",
    "\t\tedges.add((child, node))\n",
    "\t\tbuild_tree(child, edges, visited)\n",
    "\treturn edges, visited\n",
    "\n",
    "build_tree(g, edges, visited)"
   ]
  }
 ],
 "metadata": {
  "kernelspec": {
   "display_name": "appy",
   "language": "python",
   "name": "python3"
  },
  "language_info": {
   "codemirror_mode": {
    "name": "ipython",
    "version": 3
   },
   "file_extension": ".py",
   "mimetype": "text/x-python",
   "name": "python",
   "nbconvert_exporter": "python",
   "pygments_lexer": "ipython3",
   "version": "3.9.6"
  }
 },
 "nbformat": 4,
 "nbformat_minor": 2
}
